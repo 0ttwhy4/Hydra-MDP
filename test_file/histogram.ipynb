{
 "cells": [
  {
   "cell_type": "code",
   "execution_count": 2,
   "metadata": {},
   "outputs": [],
   "source": [
    "import numpy as np\n",
    "import torch"
   ]
  },
  {
   "cell_type": "code",
   "execution_count": 3,
   "metadata": {},
   "outputs": [],
   "source": [
    "pixels_per_meter = 8\n",
    "hist_max_per_pixel = 5\n",
    "x_meters_max = 2\n",
    "y_meters_max = 2 # here the bev pc is ego-centered, unlike which that in Transfuser is front-viewed\n",
    "xbins = np.linspace(-x_meters_max, x_meters_max, 32*pixels_per_meter+1)\n",
    "ybins = np.linspace(-y_meters_max, y_meters_max, 32*pixels_per_meter+1)"
   ]
  },
  {
   "cell_type": "code",
   "execution_count": 4,
   "metadata": {},
   "outputs": [
    {
     "data": {
      "text/plain": [
       "array([[ 1.90014824, -0.88633176],\n",
       "       [-0.53823738,  1.483069  ],\n",
       "       [ 1.68014267, -1.04792711],\n",
       "       ...,\n",
       "       [-1.48905808, -1.05489636],\n",
       "       [ 1.1236008 , -1.45045883],\n",
       "       [-0.10361591, -1.83601584]])"
      ]
     },
     "execution_count": 4,
     "metadata": {},
     "output_type": "execute_result"
    }
   ],
   "source": [
    "samples = np.random.rand(1000, 2)\n",
    "samples = (samples - 0.5) * 4\n",
    "samples"
   ]
  },
  {
   "cell_type": "code",
   "execution_count": 5,
   "metadata": {},
   "outputs": [],
   "source": [
    "hist, edge = np.histogramdd(samples, (xbins, ybins))"
   ]
  },
  {
   "cell_type": "code",
   "execution_count": 6,
   "metadata": {},
   "outputs": [
    {
     "data": {
      "text/plain": [
       "array([[0., 0., 0., ..., 0., 0., 0.],\n",
       "       [0., 0., 0., ..., 0., 0., 0.],\n",
       "       [0., 0., 0., ..., 0., 0., 0.],\n",
       "       ...,\n",
       "       [0., 0., 0., ..., 0., 0., 0.],\n",
       "       [0., 0., 0., ..., 0., 0., 0.],\n",
       "       [0., 0., 0., ..., 0., 0., 0.]])"
      ]
     },
     "execution_count": 6,
     "metadata": {},
     "output_type": "execute_result"
    }
   ],
   "source": [
    "hist"
   ]
  },
  {
   "cell_type": "code",
   "execution_count": 22,
   "metadata": {},
   "outputs": [],
   "source": [
    "query = torch.rand((64, 9, 32, 4)).permute(0, 3, 1, 2) # (bs, head_num, seq_len, head_dim) (64, 4, 9, 32)\n",
    "key = torch.rand((64, 10, 32, 4)).permute(0, 3, 1, 2) # (bs, head_num, seq_len, head_dim): (64, 4, 10, 32)"
   ]
  },
  {
   "cell_type": "code",
   "execution_count": 23,
   "metadata": {},
   "outputs": [],
   "source": [
    "score = torch.einsum('b h q d, b h k d -> b h q k', [query, key])"
   ]
  },
  {
   "cell_type": "code",
   "execution_count": 24,
   "metadata": {},
   "outputs": [
    {
     "data": {
      "text/plain": [
       "torch.Size([64, 4, 9, 10])"
      ]
     },
     "execution_count": 24,
     "metadata": {},
     "output_type": "execute_result"
    }
   ],
   "source": [
    "score.shape"
   ]
  },
  {
   "cell_type": "code",
   "execution_count": null,
   "metadata": {},
   "outputs": [],
   "source": []
  }
 ],
 "metadata": {
  "kernelspec": {
   "display_name": "nuplan",
   "language": "python",
   "name": "python3"
  },
  "language_info": {
   "codemirror_mode": {
    "name": "ipython",
    "version": 3
   },
   "file_extension": ".py",
   "mimetype": "text/x-python",
   "name": "python",
   "nbconvert_exporter": "python",
   "pygments_lexer": "ipython3",
   "version": "3.9.19"
  }
 },
 "nbformat": 4,
 "nbformat_minor": 2
}
